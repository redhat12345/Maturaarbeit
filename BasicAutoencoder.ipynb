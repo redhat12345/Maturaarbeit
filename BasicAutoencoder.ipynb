{
 "cells": [
  {
   "cell_type": "markdown",
   "metadata": {},
   "source": [
    "# Basic autoencoder\n",
    "All credits to: https://blog.keras.io/building-autoencoders-in-keras.html.\n",
    "The following code is a mere copy of the code from the great tutorial above."
   ]
  },
  {
   "cell_type": "code",
   "execution_count": 1,
   "metadata": {
    "scrolled": true
   },
   "outputs": [
    {
     "name": "stderr",
     "output_type": "stream",
     "text": [
      "Using Theano backend.\n",
      "WARNING (theano.sandbox.cuda): The cuda backend is deprecated and will be removed in the next release (v0.10).  Please switch to the gpuarray backend. You can get more information about how to switch at this URL:\n",
      " https://github.com/Theano/Theano/wiki/Converting-to-the-new-gpu-back-end%28gpuarray%29\n",
      "\n",
      "Using gpu device 0: GeForce GTX 760 (CNMeM is enabled with initial size: 40.0% of memory, cuDNN 5110)\n"
     ]
    }
   ],
   "source": [
    "from keras.layers import Input, Dense\n",
    "from keras.models import Model"
   ]
  },
  {
   "cell_type": "code",
   "execution_count": 2,
   "metadata": {
    "collapsed": true
   },
   "outputs": [],
   "source": [
    "# this is the size of our encoded representations\n",
    "encoding_dim = 32  # 32 floats -> compression of factor 24.5, assuming the input is 784 floats\n",
    "\n",
    "# this is our input placeholder\n",
    "input_img = Input(shape=(784,))\n",
    "# \"encoded\" is the encoded representation of the input\n",
    "encoded = Dense(encoding_dim, activation='relu')(input_img)\n",
    "# \"decoded\" is the lossy reconstruction of the input given the encoded representation\n",
    "decoded = Dense(784, activation='sigmoid')(encoded)\n",
    "\n",
    "# this model maps an input to its reconstruction     (whole thing)\n",
    "autoencoder = Model(input_img, decoded)"
   ]
  },
  {
   "cell_type": "code",
   "execution_count": 3,
   "metadata": {
    "collapsed": true
   },
   "outputs": [],
   "source": [
    "autoencoder.compile(optimizer='adadelta', loss='binary_crossentropy')"
   ]
  },
  {
   "cell_type": "code",
   "execution_count": 4,
   "metadata": {
    "collapsed": true
   },
   "outputs": [],
   "source": [
    "from keras.datasets import mnist\n",
    "import numpy as np\n",
    "(x_train, _), (x_test, _) = mnist.load_data() #y_train and y_test not needed! \n",
    "\n",
    "num_pixels = x_train.shape[1] * x_train.shape[2]\n",
    "x_train = x_train.reshape((len(x_train), num_pixels))\n",
    "x_test = x_test.reshape((len(x_test), num_pixels))\n",
    "\n",
    "#Normalize\n",
    "x_train = x_train.astype('float32') / 255.\n",
    "x_test = x_test.astype('float32') / 255."
   ]
  },
  {
   "cell_type": "code",
   "execution_count": 5,
   "metadata": {},
   "outputs": [
    {
     "name": "stderr",
     "output_type": "stream",
     "text": [
      "WARNING (theano.configdefaults): install mkl with `conda install mkl-service`: No module named 'mkl'\n"
     ]
    },
    {
     "name": "stdout",
     "output_type": "stream",
     "text": [
      "Train on 60000 samples, validate on 10000 samples\n",
      "Epoch 1/50\n",
      "60000/60000 [==============================] - 0s - loss: 0.3793 - val_loss: 0.2728\n",
      "Epoch 2/50\n",
      "60000/60000 [==============================] - 0s - loss: 0.2660 - val_loss: 0.2559\n",
      "Epoch 3/50\n",
      "60000/60000 [==============================] - 0s - loss: 0.2465 - val_loss: 0.2344\n",
      "Epoch 4/50\n",
      "60000/60000 [==============================] - 0s - loss: 0.2271 - val_loss: 0.2168\n",
      "Epoch 5/50\n",
      "60000/60000 [==============================] - 0s - loss: 0.2117 - val_loss: 0.2035\n",
      "Epoch 6/50\n",
      "60000/60000 [==============================] - 0s - loss: 0.2002 - val_loss: 0.1938\n",
      "Epoch 7/50\n",
      "60000/60000 [==============================] - 0s - loss: 0.1916 - val_loss: 0.1862\n",
      "Epoch 8/50\n",
      "60000/60000 [==============================] - 0s - loss: 0.1845 - val_loss: 0.1797\n",
      "Epoch 9/50\n",
      "60000/60000 [==============================] - 0s - loss: 0.1784 - val_loss: 0.1742\n",
      "Epoch 10/50\n",
      "60000/60000 [==============================] - 0s - loss: 0.1731 - val_loss: 0.1692\n",
      "Epoch 11/50\n",
      "60000/60000 [==============================] - 0s - loss: 0.1685 - val_loss: 0.1649\n",
      "Epoch 12/50\n",
      "60000/60000 [==============================] - 0s - loss: 0.1644 - val_loss: 0.1609\n",
      "Epoch 13/50\n",
      "60000/60000 [==============================] - 0s - loss: 0.1606 - val_loss: 0.1573\n",
      "Epoch 14/50\n",
      "60000/60000 [==============================] - 0s - loss: 0.1572 - val_loss: 0.1540\n",
      "Epoch 15/50\n",
      "60000/60000 [==============================] - 0s - loss: 0.1539 - val_loss: 0.1509\n",
      "Epoch 16/50\n",
      "60000/60000 [==============================] - 0s - loss: 0.1508 - val_loss: 0.1478\n",
      "Epoch 17/50\n",
      "60000/60000 [==============================] - 0s - loss: 0.1479 - val_loss: 0.1450\n",
      "Epoch 18/50\n",
      "60000/60000 [==============================] - 0s - loss: 0.1451 - val_loss: 0.1423\n",
      "Epoch 19/50\n",
      "60000/60000 [==============================] - 0s - loss: 0.1426 - val_loss: 0.1399\n",
      "Epoch 20/50\n",
      "60000/60000 [==============================] - 0s - loss: 0.1402 - val_loss: 0.1375\n",
      "Epoch 21/50\n",
      "60000/60000 [==============================] - 0s - loss: 0.1379 - val_loss: 0.1353\n",
      "Epoch 22/50\n",
      "60000/60000 [==============================] - 0s - loss: 0.1358 - val_loss: 0.1332\n",
      "Epoch 23/50\n",
      "60000/60000 [==============================] - 0s - loss: 0.1338 - val_loss: 0.1313\n",
      "Epoch 24/50\n",
      "60000/60000 [==============================] - 0s - loss: 0.1320 - val_loss: 0.1296\n",
      "Epoch 25/50\n",
      "60000/60000 [==============================] - 0s - loss: 0.1302 - val_loss: 0.1278\n",
      "Epoch 26/50\n",
      "60000/60000 [==============================] - 0s - loss: 0.1285 - val_loss: 0.1262\n",
      "Epoch 27/50\n",
      "60000/60000 [==============================] - 0s - loss: 0.1269 - val_loss: 0.1246\n",
      "Epoch 28/50\n",
      "60000/60000 [==============================] - 0s - loss: 0.1254 - val_loss: 0.1231\n",
      "Epoch 29/50\n",
      "60000/60000 [==============================] - 0s - loss: 0.1239 - val_loss: 0.1216\n",
      "Epoch 30/50\n",
      "60000/60000 [==============================] - 0s - loss: 0.1225 - val_loss: 0.1202\n",
      "Epoch 31/50\n",
      "60000/60000 [==============================] - 0s - loss: 0.1211 - val_loss: 0.1189\n",
      "Epoch 32/50\n",
      "60000/60000 [==============================] - 0s - loss: 0.1198 - val_loss: 0.1176\n",
      "Epoch 33/50\n",
      "60000/60000 [==============================] - 0s - loss: 0.1186 - val_loss: 0.1164\n",
      "Epoch 34/50\n",
      "60000/60000 [==============================] - 0s - loss: 0.1174 - val_loss: 0.1152\n",
      "Epoch 35/50\n",
      "60000/60000 [==============================] - 0s - loss: 0.1162 - val_loss: 0.1141\n",
      "Epoch 36/50\n",
      "60000/60000 [==============================] - 0s - loss: 0.1152 - val_loss: 0.1131\n",
      "Epoch 37/50\n",
      "60000/60000 [==============================] - 0s - loss: 0.1142 - val_loss: 0.1121\n",
      "Epoch 38/50\n",
      "60000/60000 [==============================] - 0s - loss: 0.1132 - val_loss: 0.1111\n",
      "Epoch 39/50\n",
      "60000/60000 [==============================] - 0s - loss: 0.1123 - val_loss: 0.1102\n",
      "Epoch 40/50\n",
      "60000/60000 [==============================] - 0s - loss: 0.1114 - val_loss: 0.1094\n",
      "Epoch 41/50\n",
      "60000/60000 [==============================] - 0s - loss: 0.1106 - val_loss: 0.1086\n",
      "Epoch 42/50\n",
      "60000/60000 [==============================] - 0s - loss: 0.1099 - val_loss: 0.1079\n",
      "Epoch 43/50\n",
      "60000/60000 [==============================] - 0s - loss: 0.1092 - val_loss: 0.1072\n",
      "Epoch 44/50\n",
      "60000/60000 [==============================] - 0s - loss: 0.1085 - val_loss: 0.1066\n",
      "Epoch 45/50\n",
      "60000/60000 [==============================] - 0s - loss: 0.1079 - val_loss: 0.1060\n",
      "Epoch 46/50\n",
      "60000/60000 [==============================] - 0s - loss: 0.1073 - val_loss: 0.1054\n",
      "Epoch 47/50\n",
      "60000/60000 [==============================] - 0s - loss: 0.1067 - val_loss: 0.1049\n",
      "Epoch 48/50\n",
      "60000/60000 [==============================] - 0s - loss: 0.1062 - val_loss: 0.1043\n",
      "Epoch 49/50\n",
      "60000/60000 [==============================] - 0s - loss: 0.1057 - val_loss: 0.1039\n",
      "Epoch 50/50\n",
      "60000/60000 [==============================] - 0s - loss: 0.1053 - val_loss: 0.1034\n"
     ]
    },
    {
     "data": {
      "text/plain": [
       "<keras.callbacks.History at 0x17a39576f60>"
      ]
     },
     "execution_count": 5,
     "metadata": {},
     "output_type": "execute_result"
    }
   ],
   "source": [
    "autoencoder.fit(x_train, x_train,\n",
    "                epochs=50,\n",
    "                batch_size=256,\n",
    "                shuffle=True,\n",
    "                validation_data=(x_test, x_test))"
   ]
  },
  {
   "cell_type": "code",
   "execution_count": 6,
   "metadata": {
    "collapsed": true
   },
   "outputs": [],
   "source": [
    "decoded_imgs = autoencoder.predict(x_test)"
   ]
  },
  {
   "cell_type": "code",
   "execution_count": 7,
   "metadata": {},
   "outputs": [
    {
     "data": {
      "image/png": "[encoded data removed]",
      "text/plain": [
       "<matplotlib.figure.Figure at 0x17a38f1fd68>"
      ]
     },
     "metadata": {},
     "output_type": "display_data"
    }
   ],
   "source": [
    "import matplotlib.pyplot as plt\n",
    "\n",
    "n = 10  # how many digits we will display\n",
    "plt.figure(figsize=(20, 4))\n",
    "for i in range(n):\n",
    "    which = np.random.randint(1, len(x_test[0]))\n",
    "    \n",
    "    # display original\n",
    "    ax = plt.subplot(2, n, i + 1)\n",
    "    plt.imshow(x_test[which].reshape(28, 28))\n",
    "    plt.gray()\n",
    "    ax.get_xaxis().set_visible(False)\n",
    "    ax.get_yaxis().set_visible(False)\n",
    "\n",
    "    # display reconstruction\n",
    "    ax = plt.subplot(2, n, i + 1 + n)\n",
    "    plt.imshow(decoded_imgs[which].reshape(28, 28))\n",
    "    plt.gray()\n",
    "    ax.get_xaxis().set_visible(False)\n",
    "    ax.get_yaxis().set_visible(False)\n",
    "plt.show()"
   ]
  }
 ],
 "metadata": {
  "kernelspec": {
   "display_name": "Python 3",
   "language": "python",
   "name": "python3"
  },
  "language_info": {
   "codemirror_mode": {
    "name": "ipython",
    "version": 3
   },
   "file_extension": ".py",
   "mimetype": "text/x-python",
   "name": "python",
   "nbconvert_exporter": "python",
   "pygments_lexer": "ipython3",
   "version": "3.5.3"
  }
 },
 "nbformat": 4,
 "nbformat_minor": 2
}
